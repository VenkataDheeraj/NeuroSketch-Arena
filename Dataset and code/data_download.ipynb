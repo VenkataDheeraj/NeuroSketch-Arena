{
 "cells": [
  {
   "cell_type": "code",
   "execution_count": null,
   "id": "fa4dac81",
   "metadata": {},
   "outputs": [],
   "source": [
    "# installations\n",
    "%pip install requests tqdm"
   ]
  },
  {
   "cell_type": "code",
   "execution_count": null,
   "id": "472469e3",
   "metadata": {},
   "outputs": [],
   "source": [
    "# Download the data\n",
    "import os\n",
    "import requests\n",
    "from tqdm import tqdm\n",
    "\n",
    "BASE_URL = 'https://storage.googleapis.com/quickdraw_dataset/full/numpy_bitmap'\n",
    "DATA_DIR = 'quickData'\n",
    "CATEGORIES_FILE = 'categories_60.txt'  # Change the file name to categories.txt to download all the categories instead of the 60 categories used in this project\n",
    "\n",
    "os.makedirs(DATA_DIR, exist_ok=True)\n",
    "\n",
    "with open(CATEGORIES_FILE, 'r') as f:\n",
    "    categories = [line.strip() for line in f.readlines()]\n",
    "\n",
    "def download_category(category):\n",
    "    filename = category.replace(' ', '%20') + '.npy'\n",
    "    save_as = os.path.join(DATA_DIR, filename.replace('%20', ' '))\n",
    "    if os.path.exists(save_as):\n",
    "        print(f\"Already downloaded: {filename}\")\n",
    "        return\n",
    "\n",
    "    url = f\"{BASE_URL}/{filename}\"\n",
    "    print(f\"Downloading: {filename}\")\n",
    "    response = requests.get(url, stream=True)\n",
    "    \n",
    "    if response.status_code == 200:\n",
    "        with open(save_as, 'wb') as f:\n",
    "            for chunk in response.iter_content(chunk_size=1024):\n",
    "                if chunk:\n",
    "                    f.write(chunk)\n",
    "        print(f\"✔️ Saved: {save_as}\")\n",
    "    else:\n",
    "        print(f\"Failed: {category} (HTTP {response.status_code})\")\n",
    "\n",
    "# Download all categories\n",
    "for category in tqdm(categories):\n",
    "    download_category(category)"
   ]
  },
  {
   "cell_type": "code",
   "execution_count": null,
   "id": "9e6e8144",
   "metadata": {},
   "outputs": [],
   "source": [
    "# To check if the files are corrupted\n",
    "import numpy as np\n",
    "import os\n",
    "\n",
    "def verify_npy_file(path):\n",
    "    try:\n",
    "        arr = np.load(path)\n",
    "        print(f\"{os.path.basename(path)} loaded, shape: {arr.shape}\")\n",
    "    except Exception as e:\n",
    "        print(f\"Error loading {path}: {e}\")"
   ]
  }
 ],
 "metadata": {
  "kernelspec": {
   "display_name": "base",
   "language": "python",
   "name": "python3"
  },
  "language_info": {
   "codemirror_mode": {
    "name": "ipython",
    "version": 3
   },
   "file_extension": ".py",
   "mimetype": "text/x-python",
   "name": "python",
   "nbconvert_exporter": "python",
   "pygments_lexer": "ipython3",
   "version": "3.12.4"
  }
 },
 "nbformat": 4,
 "nbformat_minor": 5
}
